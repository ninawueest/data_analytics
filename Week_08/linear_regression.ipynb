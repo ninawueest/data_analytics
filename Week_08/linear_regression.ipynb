{
 "cells": [
  {
   "cell_type": "markdown",
   "id": "1e84aff8",
   "metadata": {},
   "source": [
    "# Linear regression"
   ]
  },
  {
   "cell_type": "markdown",
   "id": "d9ca506b",
   "metadata": {},
   "source": [
    "## Libraries and settings"
   ]
  },
  {
   "cell_type": "code",
   "execution_count": 77,
   "id": "3cc498a3",
   "metadata": {},
   "outputs": [
    {
     "name": "stdout",
     "output_type": "stream",
     "text": [
      "/workspaces/data_analytics/Week_08\n"
     ]
    }
   ],
   "source": [
    "# Libraries\n",
    "import os\n",
    "import numpy as np\n",
    "import pandas as pd\n",
    "import scipy.stats as stats\n",
    "import statsmodels.api as sm\n",
    "import matplotlib.pyplot as plt\n",
    "from sklearn import linear_model\n",
    "from sklearn.model_selection import train_test_split\n",
    "\n",
    "# Ignore warnings\n",
    "import warnings\n",
    "warnings.filterwarnings('ignore')\n",
    "\n",
    "# Show current working directory\n",
    "print(os.getcwd())"
   ]
  },
  {
   "cell_type": "markdown",
   "id": "514d3419",
   "metadata": {},
   "source": [
    "## Import the apartment data"
   ]
  },
  {
   "cell_type": "code",
   "execution_count": 78,
   "id": "fc8846ed",
   "metadata": {},
   "outputs": [
    {
     "name": "stdout",
     "output_type": "stream",
     "text": [
      "(722, 17)\n"
     ]
    },
    {
     "data": {
      "text/html": [
       "<div>\n",
       "<style scoped>\n",
       "    .dataframe tbody tr th:only-of-type {\n",
       "        vertical-align: middle;\n",
       "    }\n",
       "\n",
       "    .dataframe tbody tr th {\n",
       "        vertical-align: top;\n",
       "    }\n",
       "\n",
       "    .dataframe thead th {\n",
       "        text-align: right;\n",
       "    }\n",
       "</style>\n",
       "<table border=\"1\" class=\"dataframe\">\n",
       "  <thead>\n",
       "    <tr style=\"text-align: right;\">\n",
       "      <th></th>\n",
       "      <th>id</th>\n",
       "      <th>address_raw</th>\n",
       "      <th>rooms</th>\n",
       "      <th>area</th>\n",
       "      <th>luxurious</th>\n",
       "      <th>price</th>\n",
       "      <th>price_per_m2</th>\n",
       "      <th>lat</th>\n",
       "      <th>lon</th>\n",
       "      <th>bfs_number</th>\n",
       "      <th>bfs_name</th>\n",
       "      <th>pop</th>\n",
       "      <th>pop_dens</th>\n",
       "      <th>frg_pct</th>\n",
       "      <th>emp</th>\n",
       "      <th>mean_taxable_income</th>\n",
       "      <th>dist_supermarket</th>\n",
       "    </tr>\n",
       "  </thead>\n",
       "  <tbody>\n",
       "    <tr>\n",
       "      <th>0</th>\n",
       "      <td>1693998201-1</td>\n",
       "      <td>Neuhusstrasse 6, 8630 Rüti ZH, ZH</td>\n",
       "      <td>3.0</td>\n",
       "      <td>49</td>\n",
       "      <td>0</td>\n",
       "      <td>1441</td>\n",
       "      <td>29.41</td>\n",
       "      <td>47.252171</td>\n",
       "      <td>8.845797</td>\n",
       "      <td>118</td>\n",
       "      <td>Rüti (ZH)</td>\n",
       "      <td>12286</td>\n",
       "      <td>1221.272366</td>\n",
       "      <td>24.841283</td>\n",
       "      <td>5053</td>\n",
       "      <td>65362.04268</td>\n",
       "      <td>645.652248</td>\n",
       "    </tr>\n",
       "    <tr>\n",
       "      <th>1</th>\n",
       "      <td>1693998233-172</td>\n",
       "      <td>Widacherstrasse 5, 8630 Rüti ZH, ZH</td>\n",
       "      <td>3.0</td>\n",
       "      <td>111</td>\n",
       "      <td>0</td>\n",
       "      <td>2600</td>\n",
       "      <td>23.42</td>\n",
       "      <td>47.252087</td>\n",
       "      <td>8.854919</td>\n",
       "      <td>118</td>\n",
       "      <td>Rüti (ZH)</td>\n",
       "      <td>12286</td>\n",
       "      <td>1221.272366</td>\n",
       "      <td>24.841283</td>\n",
       "      <td>5053</td>\n",
       "      <td>65362.04268</td>\n",
       "      <td>265.102153</td>\n",
       "    </tr>\n",
       "    <tr>\n",
       "      <th>2</th>\n",
       "      <td>1693998256-331</td>\n",
       "      <td>Widenweg 14, 8630 Rüti ZH, ZH</td>\n",
       "      <td>3.0</td>\n",
       "      <td>58</td>\n",
       "      <td>0</td>\n",
       "      <td>1490</td>\n",
       "      <td>25.69</td>\n",
       "      <td>47.253670</td>\n",
       "      <td>8.853993</td>\n",
       "      <td>118</td>\n",
       "      <td>Rüti (ZH)</td>\n",
       "      <td>12286</td>\n",
       "      <td>1221.272366</td>\n",
       "      <td>24.841283</td>\n",
       "      <td>5053</td>\n",
       "      <td>65362.04268</td>\n",
       "      <td>94.401821</td>\n",
       "    </tr>\n",
       "    <tr>\n",
       "      <th>3</th>\n",
       "      <td>1693998265-381</td>\n",
       "      <td>Rain 1, 8630 Rüti ZH, ZH</td>\n",
       "      <td>4.0</td>\n",
       "      <td>118</td>\n",
       "      <td>0</td>\n",
       "      <td>3240</td>\n",
       "      <td>27.46</td>\n",
       "      <td>47.259834</td>\n",
       "      <td>8.851705</td>\n",
       "      <td>118</td>\n",
       "      <td>Rüti (ZH)</td>\n",
       "      <td>12286</td>\n",
       "      <td>1221.272366</td>\n",
       "      <td>24.841283</td>\n",
       "      <td>5053</td>\n",
       "      <td>65362.04268</td>\n",
       "      <td>106.660970</td>\n",
       "    </tr>\n",
       "    <tr>\n",
       "      <th>4</th>\n",
       "      <td>1693998276-419</td>\n",
       "      <td>Bachtelstrasse 24b, 8630 Rüti ZH, ZH</td>\n",
       "      <td>3.0</td>\n",
       "      <td>66</td>\n",
       "      <td>0</td>\n",
       "      <td>1450</td>\n",
       "      <td>21.97</td>\n",
       "      <td>47.266113</td>\n",
       "      <td>8.866872</td>\n",
       "      <td>118</td>\n",
       "      <td>Rüti (ZH)</td>\n",
       "      <td>12286</td>\n",
       "      <td>1221.272366</td>\n",
       "      <td>24.841283</td>\n",
       "      <td>5053</td>\n",
       "      <td>65362.04268</td>\n",
       "      <td>974.844209</td>\n",
       "    </tr>\n",
       "  </tbody>\n",
       "</table>\n",
       "</div>"
      ],
      "text/plain": [
       "               id                           address_raw  rooms  area  \\\n",
       "0    1693998201-1     Neuhusstrasse 6, 8630 Rüti ZH, ZH    3.0    49   \n",
       "1  1693998233-172   Widacherstrasse 5, 8630 Rüti ZH, ZH    3.0   111   \n",
       "2  1693998256-331         Widenweg 14, 8630 Rüti ZH, ZH    3.0    58   \n",
       "3  1693998265-381              Rain 1, 8630 Rüti ZH, ZH    4.0   118   \n",
       "4  1693998276-419  Bachtelstrasse 24b, 8630 Rüti ZH, ZH    3.0    66   \n",
       "\n",
       "   luxurious  price  price_per_m2        lat       lon  bfs_number   bfs_name  \\\n",
       "0          0   1441         29.41  47.252171  8.845797         118  Rüti (ZH)   \n",
       "1          0   2600         23.42  47.252087  8.854919         118  Rüti (ZH)   \n",
       "2          0   1490         25.69  47.253670  8.853993         118  Rüti (ZH)   \n",
       "3          0   3240         27.46  47.259834  8.851705         118  Rüti (ZH)   \n",
       "4          0   1450         21.97  47.266113  8.866872         118  Rüti (ZH)   \n",
       "\n",
       "     pop     pop_dens    frg_pct   emp  mean_taxable_income  dist_supermarket  \n",
       "0  12286  1221.272366  24.841283  5053          65362.04268        645.652248  \n",
       "1  12286  1221.272366  24.841283  5053          65362.04268        265.102153  \n",
       "2  12286  1221.272366  24.841283  5053          65362.04268         94.401821  \n",
       "3  12286  1221.272366  24.841283  5053          65362.04268        106.660970  \n",
       "4  12286  1221.272366  24.841283  5053          65362.04268        974.844209  "
      ]
     },
     "execution_count": 78,
     "metadata": {},
     "output_type": "execute_result"
    }
   ],
   "source": [
    "# Define columns for import\n",
    "columns = [ 'web-scraper-order',\n",
    "            'address_raw',\n",
    "            'rooms',\n",
    "            'area',\n",
    "            'luxurious',\n",
    "            'price',\n",
    "            'price_per_m2',\n",
    "            'lat',\n",
    "            'lon',\n",
    "            'bfs_number',\n",
    "            'bfs_name',\n",
    "            'pop',\n",
    "            'pop_dens',\n",
    "            'frg_pct',\n",
    "            'emp',\n",
    "            'mean_taxable_income',\n",
    "            'dist_supermarket']\n",
    "\n",
    "# Read and select variables\n",
    "df_orig = pd.read_csv(\"apartments_data_enriched_cleaned.csv\", \n",
    "                      sep=\";\", \n",
    "                      encoding='utf-8')[columns]\n",
    "\n",
    "# Rename variable 'web-scraper-order' to 'apmt_id'\n",
    "df_orig = df_orig.rename(columns={'web-scraper-order': 'id'})\n",
    "\n",
    "# Remove missing values\n",
    "df = df_orig.dropna()\n",
    "df.head(5)\n",
    "\n",
    "# Remove duplicates\n",
    "df = df.drop_duplicates()\n",
    "\n",
    "# Remove some 'extreme' values\n",
    "df = df.loc[(df['price'] >= 1000) & \n",
    "            (df['price'] <= 5000)]\n",
    "\n",
    "print(df.shape)\n",
    "df.head(5)"
   ]
  },
  {
   "cell_type": "markdown",
   "id": "e43dabac",
   "metadata": {},
   "source": [
    "## Simple linear regression (only one explanatory variable in the model)\n",
    "For details see: https://docs.scipy.org/doc/scipy/reference/generated/scipy.stats.linregress.html"
   ]
  },
  {
   "cell_type": "markdown",
   "id": "f2ba09cd",
   "metadata": {},
   "source": [
    "### Create train and test samples (train = 80%, test = 20% of the data)"
   ]
  },
  {
   "cell_type": "code",
   "execution_count": 79,
   "id": "ebba6b44",
   "metadata": {},
   "outputs": [
    {
     "name": "stdout",
     "output_type": "stream",
     "text": [
      "X_train:\n",
      "503    120\n",
      "6       65\n",
      "400     90\n",
      "644     63\n",
      "484     91\n",
      "Name: area, dtype: int64 \n",
      "\n",
      "y_train:\n",
      "503    1900\n",
      "6      1850\n",
      "400    2090\n",
      "644    2102\n",
      "484    1800\n",
      "Name: price, dtype: int64\n"
     ]
    }
   ],
   "source": [
    "# Create train and test samples\n",
    "X_train, X_test, y_train, y_test = train_test_split(df['area'], \n",
    "                                                    df['price'], \n",
    "                                                    test_size=0.20, \n",
    "                                                    random_state=42)\n",
    "# Show X_train\n",
    "print('X_train:')\n",
    "print(X_train.head(), '\\n')\n",
    "\n",
    "# Show y_train\n",
    "print('y_train:')\n",
    "print(y_train.head())"
   ]
  },
  {
   "cell_type": "markdown",
   "id": "09cf20dc",
   "metadata": {},
   "source": [
    "### Create a new simple linear regression model with price_per_m2 and area (Task 1, b)"
   ]
  },
  {
   "cell_type": "code",
   "execution_count": 80,
   "id": "79bb99f5",
   "metadata": {},
   "outputs": [
    {
     "name": "stdout",
     "output_type": "stream",
     "text": [
      "R-squared (area vs. price_per_m2): 0.3551\n",
      "R-squared (area vs. price): 0.3678\n"
     ]
    },
    {
     "data": {
      "image/png": "[encoded data removed]",
      "text/plain": [
       "<Figure size 640x480 with 1 Axes>"
      ]
     },
     "metadata": {},
     "output_type": "display_data"
    }
   ],
   "source": [
    "# Create a new simple linear regression model with price_per_m2 as target variable and area as the explanatory variable (with help from chatGpt)\n",
    "\n",
    "# Assume df is your DataFrame containing 'area', 'price', and 'price_per_m2' columns\n",
    "# Create train and test samples\n",
    "X_train_area, X_test_area, y_train_price_per_m2, y_test_price_per_m2 = train_test_split(df['area'], df['price_per_m2'], test_size=0.20, random_state=42)\n",
    "slope_area, intercept_area, r_area, p_area, std_err_area = stats.linregress(X_train_area, y_train_price_per_m2)\n",
    "\n",
    "r_squared_area = r_area**2\n",
    "print(f'R-squared (area vs. price_per_m2): {r_squared_area:.4f}')\n",
    "print(f'R-squared (area vs. price): {r**2:.4f}')\n",
    "\n",
    "residuals_area = y_train_price_per_m2 - (slope_area * X_train_area + intercept_area)\n",
    "plt.hist(x=residuals_area, bins=25, color='lightblue', alpha=0.5)\n",
    "plt.xlabel('Residuals (area vs. price_per_m2)', fontsize=10, labelpad=10)\n",
    "plt.ylabel('Frequency', fontsize=10, labelpad=10)\n",
    "plt.title('Histogram of model residuals (area vs. price_per_m2)', fontsize=12, pad=10)\n",
    "plt.show()\n"
   ]
  },
  {
   "cell_type": "markdown",
   "id": "f639a544",
   "metadata": {},
   "source": [
    "### Create a new simple linear regression model with price_per_m2 and rooms (Task 1, c)"
   ]
  },
  {
   "cell_type": "code",
   "execution_count": 81,
   "id": "720b8c67",
   "metadata": {},
   "outputs": [
    {
     "name": "stdout",
     "output_type": "stream",
     "text": [
      "R-squared (rooms vs. price_per_m2): 0.3116\n",
      "R-squared (area vs. price): 0.3678\n"
     ]
    },
    {
     "data": {
      "image/png": "[encoded data removed]",
      "text/plain": [
       "<Figure size 640x480 with 1 Axes>"
      ]
     },
     "metadata": {},
     "output_type": "display_data"
    }
   ],
   "source": [
    "# Create a new simple linear regressio nmodel with price_per_m2 as target variable and rooms as the explanatory variable (help from chatgpt) \n",
    "\n",
    "# Assume df is your DataFrame containing 'rooms', 'area', 'price', and 'price_per_m2' columns\n",
    "# Create train and test samples\n",
    "\n",
    "X_train_rooms, X_test_rooms, y_train_price_per_m2, y_test_price_per_m2 = train_test_split(df['rooms'], df['price_per_m2'], test_size=0.20, random_state=42)\n",
    "slope_rooms, intercept_rooms, r_rooms, p_rooms, std_err_rooms = stats.linregress(X_train_rooms, y_train_price_per_m2)\n",
    "\n",
    "r_squared_rooms = r_rooms**2\n",
    "print(f'R-squared (rooms vs. price_per_m2): {r_squared_rooms:.4f}')\n",
    "print(f'R-squared (area vs. price): {r**2:.4f}')\n",
    "\n",
    "residuals_rooms = y_train_price_per_m2 - (slope_rooms * X_train_rooms + intercept_rooms)\n",
    "plt.hist(x=residuals_rooms, bins=25, color='pink', alpha=0.5)\n",
    "plt.xlabel('Residuals (rooms vs. price_per_m2)', fontsize=10, labelpad=10)\n",
    "plt.ylabel('Frequency', fontsize=10, labelpad=10)\n",
    "plt.title('Histogram of model residuals (rooms vs. price_per_m2)', fontsize=12, pad=10)\n",
    "plt.show()"
   ]
  },
  {
   "cell_type": "markdown",
   "id": "f32a7699",
   "metadata": {},
   "source": [
    "### Fit the simple linear regression model"
   ]
  },
  {
   "cell_type": "code",
   "execution_count": 82,
   "id": "8b2fc4ac",
   "metadata": {},
   "outputs": [
    {
     "name": "stdout",
     "output_type": "stream",
     "text": [
      "Linear regression result:\n",
      "Intercept with y-axis (alpha):            1272.94\n",
      "Slope of regression line (beta):          13.548\n",
      "p-value:                                  0.0000\n",
      "R-squared (coefficient of determination): 0.3678\n"
     ]
    }
   ],
   "source": [
    "# Fit the regression model\n",
    "slope, intercept, r, p, std_err = stats.linregress(X_train, y_train)\n",
    "\n",
    "# Print results of the regression model\n",
    "print('Linear regression result:')\n",
    "print(f'Intercept with y-axis (alpha):            {intercept:.2f}')\n",
    "print(f'Slope of regression line (beta):          {slope:.3f}')\n",
    "print(f'p-value:                                  {p:.4f}')\n",
    "print(f'R-squared (coefficient of determination): {r**2:.4f}')"
   ]
  },
  {
   "cell_type": "markdown",
   "id": "473eaddb",
   "metadata": {},
   "source": [
    "### Plot regression line"
   ]
  },
  {
   "cell_type": "code",
   "execution_count": 83,
   "id": "944adc0b",
   "metadata": {},
   "outputs": [
    {
     "data": {
      "image/png": "[encoded data removed]",
      "text/plain": [
       "<Figure size 600x400 with 1 Axes>"
      ]
     },
     "metadata": {},
     "output_type": "display_data"
    }
   ],
   "source": [
    "# Function to calculate model predictions\n",
    "def myfunc(x):\n",
    "    return slope * x + intercept\n",
    "\n",
    "# Apply myfunc() to x, i.e. make predictions \n",
    "mymodel = pd.Series(map(myfunc, X_train))\n",
    "\n",
    "# Scatterplot with regression line\n",
    "plt.figure(figsize=(6,4))\n",
    "plt.scatter(X_train, y_train, s=10, color='green')\n",
    "plt.plot(X_train, mymodel, color='darkred', linestyle='dashed')\n",
    "plt.title('Simple Linear Regression')\n",
    "plt.xlabel('area (m2)')\n",
    "plt.ylabel('price (CHF)')\n",
    "\n",
    "plt.show()"
   ]
  },
  {
   "cell_type": "markdown",
   "id": "4168bf46",
   "metadata": {},
   "source": [
    "### Check model residuals (residuals = observed prices minus predicted prices)"
   ]
  },
  {
   "cell_type": "code",
   "execution_count": 84,
   "id": "c706dc0f",
   "metadata": {},
   "outputs": [
    {
     "name": "stdout",
     "output_type": "stream",
     "text": [
      "1st Predicted price in dataset: 2898.72\n",
      "1st Observed price in dataset: 1441.00\n",
      "1st Residual price in dataset: -1457.72\n"
     ]
    }
   ],
   "source": [
    "# Calculate model residuals for train data\n",
    "residuals = y_train - mymodel\n",
    "\n",
    "# Check the first residual value in our data set\n",
    "print(f'1st Predicted price in dataset: {mymodel[0]:.2f}')\n",
    "print(f'1st Observed price in dataset: {y_train[0]:.2f}')\n",
    "print(f'1st Residual price in dataset: {residuals[0]:.2f}')"
   ]
  },
  {
   "cell_type": "markdown",
   "id": "a61ae5ac",
   "metadata": {},
   "source": [
    "### Plot histogram of residuals"
   ]
  },
  {
   "cell_type": "code",
   "execution_count": 85,
   "id": "74906286",
   "metadata": {},
   "outputs": [
    {
     "data": {
      "image/png": "[encoded data removed]",
      "text/plain": [
       "<Figure size 700x400 with 1 Axes>"
      ]
     },
     "metadata": {},
     "output_type": "display_data"
    }
   ],
   "source": [
    "# Plot histogram of residuals\n",
    "fig = plt.figure( figsize=(7,4))\n",
    "n, bins, patches = plt.hist(x=residuals, \n",
    "                            bins=25, \n",
    "                            color='blue',\n",
    "                            alpha=0.5\n",
    "                   )\n",
    "\n",
    "# Set title and labels\n",
    "plt.xlabel('residuals', fontsize=10, labelpad=10)\n",
    "plt.ylabel('frequency', fontsize=10, labelpad=10)\n",
    "plt.title('Histogram of model residuals', fontsize=12, pad=10)\n",
    "\n",
    "# Show plot\n",
    "plt.show()"
   ]
  },
  {
   "cell_type": "markdown",
   "id": "b3108ba5",
   "metadata": {},
   "source": [
    "### Compare the observed prices with the predicted prices"
   ]
  },
  {
   "cell_type": "code",
   "execution_count": 86,
   "id": "36cdf7b0",
   "metadata": {},
   "outputs": [
    {
     "name": "stdout",
     "output_type": "stream",
     "text": [
      "Observed price: 1360.0, Predicted price: 2031.6\n",
      "Observed price: 1640.0, Predicted price: 2004.5\n",
      "Observed price: 1568.0, Predicted price: 2167.1\n",
      "Observed price: 2290.0, Predicted price: 2207.8\n",
      "Observed price: 4950.0, Predicted price: 2627.8\n",
      "Observed price: 1787.0, Predicted price: 2248.4\n",
      "Observed price: 3495.0, Predicted price: 2519.4\n",
      "Observed price: 2450.0, Predicted price: 2031.6\n",
      "Observed price: 3390.0, Predicted price: 2871.6\n",
      "Observed price: 2836.0, Predicted price: 2573.6\n"
     ]
    }
   ],
   "source": [
    "# Create model predictions for test data\n",
    "predicted = myfunc(X_test)\n",
    "predicted.round(1)\n",
    "\n",
    "# Compare the observed prices with the predicted prices\n",
    "for i in range(0,10):\n",
    "    print(f'Observed price: {y_test.iloc[i]:.1f}, Predicted price: {predicted.iloc[i]:.1f}')"
   ]
  },
  {
   "cell_type": "markdown",
   "id": "0bf7656b",
   "metadata": {},
   "source": [
    "## Multiple linear regression (more than one explanatory variable in the model)\n",
    "For details see: https://www.statsmodels.org/dev/examples/notebooks/generated/predict.html"
   ]
  },
  {
   "cell_type": "markdown",
   "id": "9268293c",
   "metadata": {},
   "source": [
    "### Create train and test samples (train = 80%, test = 20% of the data)"
   ]
  },
  {
   "cell_type": "code",
   "execution_count": 87,
   "id": "26c6c61e",
   "metadata": {},
   "outputs": [
    {
     "name": "stdout",
     "output_type": "stream",
     "text": [
      "X2_train:\n",
      "     area     pop_dens\n",
      "503   120   165.018625\n",
      "6      65   525.662252\n",
      "400    90   424.146342\n",
      "644    63  1044.628957\n",
      "484    91   399.525129 \n",
      "\n",
      "y2_train:\n",
      "503    1900\n",
      "6      1850\n",
      "400    2090\n",
      "644    2102\n",
      "484    1800\n",
      "Name: price, dtype: int64\n"
     ]
    }
   ],
   "source": [
    "# Create train and test samples (we name it X2_ and y_2 because we already used X_ and y_ above)\n",
    "X2_train, X2_test, y2_train, y2_test = train_test_split(df[['area',\n",
    "                                                            'pop_dens']], \n",
    "                                                        df['price'], \n",
    "                                                        test_size=0.20, \n",
    "                                                        random_state=42)\n",
    "\n",
    "# Show X2_train\n",
    "print('X2_train:')\n",
    "print(X2_train.head(), '\\n')\n",
    "\n",
    "# Show y2_train\n",
    "print('y2_train:')\n",
    "print(y2_train.head())"
   ]
  },
  {
   "cell_type": "markdown",
   "id": "8bcb66db",
   "metadata": {},
   "source": [
    "### Include variables tax_income and dist_supermarket (Task 1, d)"
   ]
  },
  {
   "cell_type": "code",
   "execution_count": 88,
   "id": "aaf44053",
   "metadata": {},
   "outputs": [
    {
     "name": "stdout",
     "output_type": "stream",
     "text": [
      "                            OLS Regression Results                            \n",
      "==============================================================================\n",
      "Dep. Variable:                  price   R-squared:                       0.611\n",
      "Model:                            OLS   Adj. R-squared:                  0.609\n",
      "Method:                 Least Squares   F-statistic:                     225.0\n",
      "Date:                Wed, 13 Dec 2023   Prob (F-statistic):          6.98e-116\n",
      "Time:                        11:37:53   Log-Likelihood:                -4403.2\n",
      "No. Observations:                 577   AIC:                             8816.\n",
      "Df Residuals:                     572   BIC:                             8838.\n",
      "Df Model:                           4                                         \n",
      "Covariance Type:            nonrobust                                         \n",
      "=======================================================================================\n",
      "                          coef    std err          t      P>|t|      [0.025      0.975]\n",
      "---------------------------------------------------------------------------------------\n",
      "const                -386.2135    143.422     -2.693      0.007    -667.911    -104.516\n",
      "area                   17.5657      0.635     27.678      0.000      16.319      18.812\n",
      "pop_dens                0.2305      0.014     15.992      0.000       0.202       0.259\n",
      "mean_taxable_income     0.0094      0.002      5.721      0.000       0.006       0.013\n",
      "dist_supermarket        0.0283      0.043      0.653      0.514      -0.057       0.113\n",
      "==============================================================================\n",
      "Omnibus:                       87.429   Durbin-Watson:                   1.939\n",
      "Prob(Omnibus):                  0.000   Jarque-Bera (JB):              179.772\n",
      "Skew:                           0.850   Prob(JB):                     9.18e-40\n",
      "Kurtosis:                       5.141   Cond. No.                     5.56e+05\n",
      "==============================================================================\n",
      "\n",
      "Notes:\n",
      "[1] Standard Errors assume that the covariance matrix of the errors is correctly specified.\n",
      "[2] The condition number is large, 5.56e+05. This might indicate that there are\n",
      "strong multicollinearity or other numerical problems.\n",
      "Significant variables at the 5% significance level: ['const', 'area', 'pop_dens', 'mean_taxable_income']\n"
     ]
    }
   ],
   "source": [
    "# Create train and test samples (we name it X2_ and y_2 because we already used X_ and y_ above)\n",
    "# Assume df is your DataFrame containing 'area', 'pop_dens', 'tax_income', 'dist_supermarket', and 'price' columns\n",
    "\n",
    "# Create train and test samples\n",
    "X3_train, X3_test, y3_train, y3_test = train_test_split(df[['area', 'pop_dens', 'mean_taxable_income', 'dist_supermarket']], df['price'], test_size=0.20, random_state=42)\n",
    "\n",
    "X3_train_const = sm.add_constant(X3_train)\n",
    "olsmod3 = sm.OLS(y3_train, X3_train_const)\n",
    "olsres3 = olsmod3.fit()\n",
    "print(olsres3.summary())\n",
    "\n",
    "p_values = olsres3.pvalues\n",
    "significant_variables = [X3_train_const.columns[i] for i in range(len(p_values)) if p_values[i] < 0.05]\n",
    "\n",
    "print(\"Significant variables at the 5% significance level:\", significant_variables)"
   ]
  },
  {
   "cell_type": "markdown",
   "id": "493cef96",
   "metadata": {},
   "source": [
    "### Fit the multiple regression model (yes, the output is rich :-), but we need only part of it for interpretation!)"
   ]
  },
  {
   "cell_type": "code",
   "execution_count": 89,
   "id": "41939144",
   "metadata": {},
   "outputs": [
    {
     "name": "stdout",
     "output_type": "stream",
     "text": [
      "                            OLS Regression Results                            \n",
      "==============================================================================\n",
      "Dep. Variable:                  price   R-squared:                       0.588\n",
      "Model:                            OLS   Adj. R-squared:                  0.586\n",
      "Method:                 Least Squares   F-statistic:                     409.2\n",
      "Date:                Wed, 13 Dec 2023   Prob (F-statistic):          3.50e-111\n",
      "Time:                        11:37:53   Log-Likelihood:                -4420.2\n",
      "No. Observations:                 577   AIC:                             8846.\n",
      "Df Residuals:                     574   BIC:                             8860.\n",
      "Df Model:                           2                                         \n",
      "Covariance Type:            nonrobust                                         \n",
      "==============================================================================\n",
      "                 coef    std err          t      P>|t|      [0.025      0.975]\n",
      "------------------------------------------------------------------------------\n",
      "const        331.1861     78.086      4.241      0.000     177.818     484.554\n",
      "area          17.9213      0.649     27.625      0.000      16.647      19.195\n",
      "pop_dens       0.2379      0.014     17.502      0.000       0.211       0.265\n",
      "==============================================================================\n",
      "Omnibus:                       79.849   Durbin-Watson:                   1.970\n",
      "Prob(Omnibus):                  0.000   Jarque-Bera (JB):              140.633\n",
      "Skew:                           0.843   Prob(JB):                     2.90e-31\n",
      "Kurtosis:                       4.734   Cond. No.                     1.06e+04\n",
      "==============================================================================\n",
      "\n",
      "Notes:\n",
      "[1] Standard Errors assume that the covariance matrix of the errors is correctly specified.\n",
      "[2] The condition number is large, 1.06e+04. This might indicate that there are\n",
      "strong multicollinearity or other numerical problems.\n"
     ]
    }
   ],
   "source": [
    "# Add constant to the model\n",
    "X2_train_const = sm.add_constant(X2_train)\n",
    "\n",
    "# Create the multiple regression model\n",
    "olsmod = sm.OLS(y_train, X2_train_const)\n",
    "olsres = olsmod.fit()\n",
    "\n",
    "# Print full model output\n",
    "print(olsres.summary())"
   ]
  },
  {
   "cell_type": "markdown",
   "id": "6bfc2964",
   "metadata": {},
   "source": [
    "### Interpretation of the relevant (in this course) statistics in the table above"
   ]
  },
  {
   "cell_type": "markdown",
   "id": "4e62547e",
   "metadata": {},
   "source": [
    "<b>R-squared:</b> This is the coefficient of determination (see slides of lessons). A value of 0.522 means, that the explanatory variables explain 52% of the variaton of our target variable (rental prices) - not bad, but could be improved.\n",
    "\n",
    "<b>coef:</b> These are the estimated coefficients of the explanatory variables ('slopes of the regression line' of each variable). These are nedded for the price predictions in our model.\n",
    "\n",
    "<b>P>|t|:</b> These are the p-values. If < 0.05, the explanatory variables shows a statistically siginificant (5% significance level) contribution in explaining the target variable. Except for the distiance to the nearest supermarkt, all variables are significant here."
   ]
  },
  {
   "cell_type": "markdown",
   "id": "1cb8a8c5",
   "metadata": {},
   "source": [
    "### Plot histogram of residuals"
   ]
  },
  {
   "cell_type": "code",
   "execution_count": 90,
   "id": "c28ffef9",
   "metadata": {},
   "outputs": [
    {
     "data": {
      "image/png": "[encoded data removed]",
      "text/plain": [
       "<Figure size 800x400 with 1 Axes>"
      ]
     },
     "metadata": {},
     "output_type": "display_data"
    }
   ],
   "source": [
    "# Plot histogram of residuals\n",
    "fig = plt.figure( figsize=(8,4))\n",
    "n, bins, patches = plt.hist(x=olsres.resid, \n",
    "                            bins=25, \n",
    "                            color='blue',\n",
    "                            alpha=0.5\n",
    "                   )\n",
    "\n",
    "# Set labels\n",
    "plt.xlabel('residuals', fontsize=10, labelpad=10)\n",
    "plt.ylabel('frequency', fontsize=10, labelpad=10)\n",
    "plt.title('Histogram of model residuals', fontsize=12, pad=10)\n",
    "\n",
    "plt.show()"
   ]
  },
  {
   "cell_type": "markdown",
   "id": "5dd244d9",
   "metadata": {},
   "source": [
    "### Compare the observed prices with the predicted prices"
   ]
  },
  {
   "cell_type": "code",
   "execution_count": 91,
   "id": "798fac9c",
   "metadata": {},
   "outputs": [
    {
     "name": "stdout",
     "output_type": "stream",
     "text": [
      "Observed price: 1360.0, Predicted price: 1730.3\n",
      "Observed price: 1640.0, Predicted price: 1600.6\n",
      "Observed price: 1568.0, Predicted price: 1806.3\n",
      "Observed price: 2290.0, Predicted price: 2704.6\n",
      "Observed price: 4950.0, Predicted price: 2519.3\n",
      "Observed price: 1787.0, Predicted price: 2201.5\n",
      "Observed price: 3495.0, Predicted price: 3116.8\n",
      "Observed price: 2450.0, Predicted price: 2471.6\n",
      "Observed price: 3390.0, Predicted price: 2685.2\n",
      "Observed price: 2836.0, Predicted price: 2405.3\n"
     ]
    }
   ],
   "source": [
    "# Add constant to X2_test\n",
    "X2_test_const = sm.add_constant(X2_test)\n",
    "predicted_new = olsres.predict(X2_test_const)\n",
    "\n",
    "# Compare the observed prices with the predicted prices\n",
    "for i in range(0,10):\n",
    "    print(f'Observed price: {y_test.iloc[i]:.1f}, Predicted price: {predicted_new.iloc[i]:.1f}')"
   ]
  },
  {
   "cell_type": "markdown",
   "id": "b3468eec",
   "metadata": {},
   "source": [
    "### Jupyter notebook --footer info-- (please always provide this at the end of each submitted notebook)"
   ]
  },
  {
   "cell_type": "code",
   "execution_count": 92,
   "id": "64f26a9e",
   "metadata": {},
   "outputs": [
    {
     "name": "stdout",
     "output_type": "stream",
     "text": [
      "-----------------------------------\n",
      "POSIX\n",
      "Linux | 6.2.0-1018-azure\n",
      "Datetime: 2023-12-13 11:37:53\n",
      "Python Version: 3.10.13\n",
      "-----------------------------------\n"
     ]
    }
   ],
   "source": [
    "import os\n",
    "import platform\n",
    "import socket\n",
    "from platform import python_version\n",
    "from datetime import datetime\n",
    "\n",
    "print('-----------------------------------')\n",
    "print(os.name.upper())\n",
    "print(platform.system(), '|', platform.release())\n",
    "print('Datetime:', datetime.now().strftime(\"%Y-%m-%d %H:%M:%S\"))\n",
    "print('Python Version:', python_version())\n",
    "print('-----------------------------------')"
   ]
  }
 ],
 "metadata": {
  "kernelspec": {
   "display_name": "Python 3 (ipykernel)",
   "language": "python",
   "name": "python3"
  },
  "language_info": {
   "codemirror_mode": {
    "name": "ipython",
    "version": 3
   },
   "file_extension": ".py",
   "mimetype": "text/x-python",
   "name": "python",
   "nbconvert_exporter": "python",
   "pygments_lexer": "ipython3",
   "version": "3.10.13"
  }
 },
 "nbformat": 4,
 "nbformat_minor": 5
}
